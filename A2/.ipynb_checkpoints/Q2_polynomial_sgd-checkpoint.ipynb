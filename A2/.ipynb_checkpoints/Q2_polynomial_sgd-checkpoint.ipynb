{
 "cells": [
  {
   "cell_type": "code",
   "execution_count": 24,
   "metadata": {},
   "outputs": [],
   "source": [
    "import numpy as np\n",
    "import matplotlib.pyplot as plt\n",
    "from sklearn.model_selection import train_test_split"
   ]
  },
  {
   "cell_type": "code",
   "execution_count": 25,
   "metadata": {},
   "outputs": [],
   "source": [
    "# suppose we have received the following data from some sensor\n",
    "data_x = np.linspace(1.0, 10.0, 100)[:, np.newaxis]\n",
    "data_y = np.sin(data_x) + 0.1 * np.power(data_x, 2) + 0.5 * np.random.randn(100, 1)\n",
    "\n",
    "degree = 6\n"
   ]
  },
  {
   "cell_type": "code",
   "execution_count": 26,
   "metadata": {},
   "outputs": [],
   "source": [
    "# normalise data\n",
    "def normalise(X, Y):\n",
    "    norm_x = ( X-min(X) ) / ( max(X)-min(X) )\n",
    "    norm_y = ( Y-min(Y) ) / ( max(Y)-min(Y) )\n",
    "    return norm_x, norm_y"
   ]
  },
  {
   "cell_type": "code",
   "execution_count": 27,
   "metadata": {},
   "outputs": [],
   "source": [
    "# fit a polynomial of order 6\n",
    "\n",
    "def polyX(X, d):\n",
    "    poly_x = np.ones(X.shape[0]).reshape(-1,1)\n",
    "    \n",
    "    for i in range (1,d+1):\n",
    "        poly_x = np.append(poly_x, X**i, axis=1)\n",
    "    return poly_x\n"
   ]
  },
  {
   "cell_type": "code",
   "execution_count": 28,
   "metadata": {},
   "outputs": [],
   "source": [
    "# Implement gradient computation and theta update \n",
    "def gradient_descent(X, Y, D, iters, alpha):\n",
    "       \n",
    "    theta = np.zeros(D+1)\n",
    "    \n",
    "    for i in range(iters):\n",
    "        for j in range(D+1):\n",
    "            theta[j] -= alpha*2*sum((np.inner(X, theta) - Y[:,0]) * X[:,j])/(X.shape[0])\n",
    "    \n",
    "    return theta\n"
   ]
  },
  {
   "cell_type": "code",
   "execution_count": 29,
   "metadata": {},
   "outputs": [],
   "source": [
    "# Call stochastic gradient descent in the main loop\n",
    "\n",
    "def stochastic_gradient_descent(X, Y, D, epochs, sample_size, alpha):\n",
    "    \n",
    "    theta = np.zeros(D+1)\n",
    "    for i in range (epochs):\n",
    "        idx = np.random.choice (X.shape[0], sample_size, replace=False)\n",
    "        x_samp = X[idx]\n",
    "        y_samp = Y[idx]\n",
    "        \n",
    "        for j in range(D+1):\n",
    "            theta[j] -= alpha*2*sum((np.inner(x_samp, theta) - y_samp[:,0]) * x_samp[:,j])/(x_samp.shape[0])\n",
    "    return theta  \n"
   ]
  },
  {
   "cell_type": "code",
   "execution_count": 30,
   "metadata": {},
   "outputs": [
    {
     "name": "stdout",
     "output_type": "stream",
     "text": [
      "[0.10147057 0.25872982 0.24147965 0.19160188 0.1427607  0.10235254\n",
      " 0.07057483]\n",
      "[0.10129846 0.25869898 0.24146266 0.19158551 0.14273888 0.10232046\n",
      " 0.07052951]\n"
     ]
    }
   ],
   "source": [
    "\n",
    "norm_x, norm_y = normalise(data_x.copy(), data_y.copy())\n",
    "train_x, test_x, train_y, test_y = train_test_split( norm_x, norm_y, test_size=0.2, random_state=42)\n",
    "poly_train_x = polyX(train_x.copy(), degree)\n",
    "\n",
    "theta_gd = gradient_descent(poly_train_x, train_y, degree, 10000, 0.001)\n",
    "theta_sgd = stochastic_gradient_descent(poly_train_x, train_y, degree, 100000, 10, 0.0001)\n",
    "print(theta_gd)\n",
    "print(theta_sgd)"
   ]
  },
  {
   "cell_type": "code",
   "execution_count": 31,
   "metadata": {},
   "outputs": [
    {
     "data": {
      "image/png": "[encoded data removed]",
      "text/plain": [
       "<Figure size 432x288 with 1 Axes>"
      ]
     },
     "metadata": {
      "needs_background": "light"
     },
     "output_type": "display_data"
    }
   ],
   "source": [
    "# plot all data\n",
    "\n",
    "plt.scatter(norm_x, norm_y, c='b')\n",
    "plt.grid()\n",
    "plt.xlabel('X')\n",
    "plt.ylabel('Y')\n",
    "plt.show()"
   ]
  },
  {
   "cell_type": "code",
   "execution_count": 32,
   "metadata": {},
   "outputs": [],
   "source": [
    "# predict y_hat using test_x and theta \n",
    "# plot x vs y in blue\n",
    "# plot x vs y_hat in red"
   ]
  },
  {
   "cell_type": "code",
   "execution_count": 33,
   "metadata": {},
   "outputs": [
    {
     "data": {
      "image/png": "[encoded data removed]",
      "text/plain": [
       "<Figure size 432x288 with 1 Axes>"
      ]
     },
     "metadata": {
      "needs_background": "light"
     },
     "output_type": "display_data"
    }
   ],
   "source": [
    "# plot predict y on test x by GD\n",
    "poly_test_x = polyX(test_x.copy(), degree)\n",
    "y_pred_gd = poly_test_x @ theta_gd\n",
    "\n",
    "plt.scatter(test_x, test_y, c='b')\n",
    "plt.scatter(test_x, y_pred_gd, c='r')\n",
    "plt.grid()\n",
    "plt.xlabel('X')\n",
    "plt.ylabel('Y')\n",
    "plt.show()"
   ]
  },
  {
   "cell_type": "code",
   "execution_count": 34,
   "metadata": {},
   "outputs": [
    {
     "data": {
      "image/png": "[encoded data removed]",
      "text/plain": [
       "<Figure size 432x288 with 1 Axes>"
      ]
     },
     "metadata": {
      "needs_background": "light"
     },
     "output_type": "display_data"
    }
   ],
   "source": [
    "# plot predict y on test x by GD\n",
    "poly_test_x = polyX(test_x.copy(), degree)\n",
    "y_pred_sgd = poly_test_x @ theta_sgd\n",
    "\n",
    "plt.scatter(test_x, test_y, c='b')\n",
    "plt.scatter(test_x, y_pred_sgd, c='r')\n",
    "plt.grid()\n",
    "plt.xlabel('X')\n",
    "plt.ylabel('Y')\n",
    "plt.show()"
   ]
  },
  {
   "cell_type": "code",
   "execution_count": null,
   "metadata": {},
   "outputs": [],
   "source": []
  },
  {
   "cell_type": "code",
   "execution_count": null,
   "metadata": {},
   "outputs": [],
   "source": []
  }
 ],
 "metadata": {
  "kernelspec": {
   "display_name": "Python 3",
   "language": "python",
   "name": "python3"
  },
  "language_info": {
   "codemirror_mode": {
    "name": "ipython",
    "version": 3
   },
   "file_extension": ".py",
   "mimetype": "text/x-python",
   "name": "python",
   "nbconvert_exporter": "python",
   "pygments_lexer": "ipython3",
   "version": "3.6.9"
  }
 },
 "nbformat": 4,
 "nbformat_minor": 4
}
