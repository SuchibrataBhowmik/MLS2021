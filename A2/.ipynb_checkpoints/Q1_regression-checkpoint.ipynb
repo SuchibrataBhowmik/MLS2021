{
 "cells": [
  {
   "cell_type": "code",
   "execution_count": 274,
   "metadata": {},
   "outputs": [],
   "source": [
    "# import necessary modules\n",
    "\n",
    "import numpy as np\n",
    "import matplotlib.pyplot as plt\n",
    "import house_sales_data as hsd\n",
    "from sklearn.model_selection import train_test_split"
   ]
  },
  {
   "cell_type": "code",
   "execution_count": 275,
   "metadata": {},
   "outputs": [
    {
     "name": "stdout",
     "output_type": "stream",
     "text": [
      "dict_keys(['price', 'area', 'beds', 'baths', 'condo', 'location'])\n"
     ]
    }
   ],
   "source": [
    "## Sacramento house price data; load\n",
    "data = hsd.house_sales_data() \n",
    "print(data.keys())\n",
    "\n",
    "## Get the target (i.e., price) and two features\n",
    "price = data[\"price\"]\n",
    "area = data[\"area\"]\n",
    "beds = data[\"beds\"]"
   ]
  },
  {
   "cell_type": "code",
   "execution_count": 276,
   "metadata": {},
   "outputs": [],
   "source": [
    "# Implement gradient descent (NOT SGD, just simple GD!)\n",
    "def gradient_descent(X, y, iters, alpha):\n",
    "    m, n = X.shape\n",
    "    theta = np.zeros(n)\n",
    "    costs = np.zeros(iters)\n",
    "    \n",
    "    # now complete ...\n",
    "    for i in range (iters):\n",
    "        costs[i] += 1/m*sum( (np.inner(X,theta) - y)**2 )\n",
    "        for j in range(n):\n",
    "            theta[j] -= alpha/m*2*sum((np.inner(X,theta) - y )*X[:,j])\n",
    "    return theta, costs    \n"
   ]
  },
  {
   "cell_type": "code",
   "execution_count": 277,
   "metadata": {},
   "outputs": [],
   "source": [
    "# Normalize data \n",
    "def normalize_data(X, y, normalize_cols):\n",
    "    min_X = X[:,normalize_cols].min(axis=0)\n",
    "    max_X = X[:,normalize_cols].max(axis=0)\n",
    "    min_y = y.min()\n",
    "    max_y = y.max()\n",
    "    X[:,normalize_cols] = (X[:,normalize_cols] - min_X) / (max_X - min_X)\n",
    "    y[:] = (y - min_y) / (max_y - min_y)\n",
    "    \n",
    "    return X, y, min_X, max_X, min_y, max_y\n",
    "        "
   ]
  },
  {
   "cell_type": "code",
   "execution_count": 278,
   "metadata": {},
   "outputs": [],
   "source": [
    "def unnormalize_data(x,y,theta):\n",
    "    sum_=0\n",
    "    theta_hat=np.zeros(len(theta))\n",
    "    range_x= x[:,0:2].max(axis=0) - x[:,0:2].min(axis=0)\n",
    "    range_y=max(y) - min(y)\n",
    "    for i in range (len(theta)-1):\n",
    "        theta_hat[i] = theta[i]*range_y/range_x[i]\n",
    "        sum_ += theta_hat[i]*x[:,i].min(axis=0)\n",
    "    theta_hat[-1] = theta[-1]*range_y + min(y) - sum_\n",
    "    return theta_hat"
   ]
  },
  {
   "cell_type": "code",
   "execution_count": 279,
   "metadata": {},
   "outputs": [],
   "source": [
    "# Implement an evaluation metric for regression\n",
    "def evaluation_metric(y,y_hat):\n",
    "    return np.linalg.norm(y-y_hat)/len(y)**0.5\n",
    "    "
   ]
  },
  {
   "cell_type": "code",
   "execution_count": 280,
   "metadata": {},
   "outputs": [],
   "source": [
    "# Prepare data this way\n",
    "data_x = np.hstack((area[:,np.newaxis], beds[:,np.newaxis], np.ones(area.shape[0])[:,np.newaxis]))\n",
    "data_y = price\n",
    "\n",
    "\n",
    "train_x, test_x, train_y, test_y = train_test_split(data_x, data_y, test_size=0.2, random_state=42)\n",
    "\n",
    "X, y, min_X, max_X, min_y, max_y = normalize_data(train_x.copy(), train_y.copy(), [True, True, False])\n",
    "\n"
   ]
  },
  {
   "cell_type": "code",
   "execution_count": 281,
   "metadata": {},
   "outputs": [],
   "source": [
    "# call gradient descent and fine-tune your learning rate\n",
    "theta, costs = gradient_descent(X, y, 150, 1.0)\n",
    "#print(theta)"
   ]
  },
  {
   "cell_type": "code",
   "execution_count": 282,
   "metadata": {},
   "outputs": [
    {
     "data": {
      "text/plain": [
       "Text(0, 0.5, 'Costs')"
      ]
     },
     "execution_count": 282,
     "metadata": {},
     "output_type": "execute_result"
    },
    {
     "data": {
      "image/png": "[encoded data removed]",
      "text/plain": [
       "<Figure size 432x288 with 1 Axes>"
      ]
     },
     "metadata": {
      "needs_background": "light"
     },
     "output_type": "display_data"
    }
   ],
   "source": [
    "# plot cost vs iterations \n",
    "# note gradient descent return costs for all iterations\n",
    "\n",
    "iteration = np.arange(0,150)\n",
    "\n",
    "plt.plot(iteration, costs)\n",
    "plt.xlabel(\"Iteration\")\n",
    "plt.ylabel(\"Costs\")\n"
   ]
  },
  {
   "cell_type": "code",
   "execution_count": 283,
   "metadata": {},
   "outputs": [
    {
     "name": "stdout",
     "output_type": "stream",
     "text": [
      "72.2649012966479\n",
      "72.24869502636473\n",
      "72.24862754579031\n",
      "72.24862726027972\n"
     ]
    }
   ],
   "source": [
    "# print evaluation metric for test set while \n",
    "# changing max_iteration from 500 to 2000\n",
    "# Note the best value of evaluation metric you get\n",
    "\n",
    "theta_500, c = gradient_descent(X, y, 500, 0.5)\n",
    "theta_hat_500 = unnormalize_data(train_x.copy(), train_y.copy(), theta_500)\n",
    "#print(theta_hat_500)\n",
    "pred_y_500 = test_x @ theta_hat_500\n",
    "err_500 = evaluation_metric(test_y,pred_y_500)\n",
    "print(err_500)\n",
    "\n",
    "theta_1000, c = gradient_descent(X, y, 1000, 0.5)\n",
    "theta_hat_1000 = unnormalize_data(train_x.copy(), train_y.copy(), theta_1000)\n",
    "#print(theta_hat_1000)\n",
    "pred_y_1000 = test_x @ theta_hat_1000\n",
    "err_1000 = evaluation_metric(test_y,pred_y_1000)\n",
    "print(err_1000)\n",
    "\n",
    "theta_1500, c = gradient_descent(X, y, 1500, 0.5)\n",
    "theta_hat_1500 = unnormalize_data(train_x.copy(), train_y.copy(), theta_1500)\n",
    "#print(theta_hat_500)\n",
    "pred_y_1500 = test_x @ theta_hat_1500\n",
    "err_1500 = evaluation_metric(test_y,pred_y_1500)\n",
    "print(err_1500)\n",
    "\n",
    "theta_2000, c = gradient_descent(X, y, 2000, 0.5)\n",
    "theta_hat_2000 = unnormalize_data(train_x.copy(), train_y.copy(), theta_2000)\n",
    "#print(theta_hat_2000)\n",
    "pred_y_2000 = test_x @ theta_hat_2000\n",
    "err_2000 = evaluation_metric(test_y,pred_y_2000)\n",
    "print(err_2000)\n"
   ]
  },
  {
   "cell_type": "code",
   "execution_count": null,
   "metadata": {},
   "outputs": [],
   "source": []
  },
  {
   "cell_type": "code",
   "execution_count": 284,
   "metadata": {},
   "outputs": [],
   "source": [
    "# compare your solution with scikit-learn library\n",
    "#from sklearn import datasets, linear_model\n",
    "from sklearn.linear_model import LinearRegression"
   ]
  },
  {
   "cell_type": "code",
   "execution_count": 285,
   "metadata": {},
   "outputs": [],
   "source": [
    "# Create linear regression object\n",
    "model = LinearRegression(fit_intercept=True, normalize=False)"
   ]
  },
  {
   "cell_type": "code",
   "execution_count": 286,
   "metadata": {},
   "outputs": [],
   "source": [
    "# Prepare data for scikit Learn\n",
    "X_data = np.array([area, beds]).T\n",
    "y_data = price\n",
    "X_train, X_test, y_train, y_test = train_test_split(X_data, y_data, test_size=0.2, random_state=42)"
   ]
  },
  {
   "cell_type": "code",
   "execution_count": 287,
   "metadata": {},
   "outputs": [
    {
     "data": {
      "text/plain": [
       "LinearRegression()"
      ]
     },
     "execution_count": 287,
     "metadata": {},
     "output_type": "execute_result"
    }
   ],
   "source": [
    "# Train the model using the training sets\n",
    "model.fit(X_train, y_train)"
   ]
  },
  {
   "cell_type": "code",
   "execution_count": 288,
   "metadata": {},
   "outputs": [
    {
     "name": "stdout",
     "output_type": "stream",
     "text": [
      "72.24862725906651\n"
     ]
    }
   ],
   "source": [
    "# Predict on test set and print evaluation metric\n",
    "# How much does it differ by from \n",
    "\n",
    "y_pred = model.predict(X_test)\n",
    "sk_err = evaluation_metric(y_test, y_pred)\n",
    "print(sk_err)"
   ]
  },
  {
   "cell_type": "code",
   "execution_count": null,
   "metadata": {},
   "outputs": [],
   "source": []
  }
 ],
 "metadata": {
  "kernelspec": {
   "display_name": "Python 3",
   "language": "python",
   "name": "python3"
  },
  "language_info": {
   "codemirror_mode": {
    "name": "ipython",
    "version": 3
   },
   "file_extension": ".py",
   "mimetype": "text/x-python",
   "name": "python",
   "nbconvert_exporter": "python",
   "pygments_lexer": "ipython3",
   "version": "3.6.9"
  }
 },
 "nbformat": 4,
 "nbformat_minor": 4
}
