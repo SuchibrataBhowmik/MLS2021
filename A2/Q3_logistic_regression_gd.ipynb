{
 "cells": [
  {
   "cell_type": "code",
   "execution_count": 1,
   "metadata": {},
   "outputs": [],
   "source": [
    "import numpy as np\n",
    "from matplotlib import pyplot as plt\n",
    "from sklearn.preprocessing import StandardScaler\n",
    "from sklearn.linear_model import LogisticRegression\n",
    "from sklearn.datasets import make_classification\n",
    "from sklearn.model_selection import train_test_split\n",
    "from sklearn.datasets import load_breast_cancer\n",
    "from sklearn import metrics\n",
    "from sklearn.metrics import roc_curve"
   ]
  },
  {
   "cell_type": "code",
   "execution_count": 53,
   "metadata": {},
   "outputs": [],
   "source": [
    "# load load_breast_cancer\n",
    "data = load_breast_cancer()\n",
    "ix = np.where(data[\"feature_names\"] == \"mean area\")[0][0]\n",
    "iy = np.where(data[\"feature_names\"] == \"mean concave points\")[0][0]\n",
    "\n",
    "data_x = np.asarray([data[\"data\"][:,ix], data[\"data\"][:,iy] ]).T\n",
    "\n",
    "data_y = (1.*(data[\"target\"]==np.where(data[\"target_names\"] == \"malignant\")[0][0]) +\n",
    "     -1.*(data[\"target\"]==np.where(data[\"target_names\"] == \"benign\")[0][0]))\n"
   ]
  },
  {
   "cell_type": "code",
   "execution_count": 54,
   "metadata": {},
   "outputs": [],
   "source": [
    "# normalize (use StandardScaler if you wish)\n",
    "#print(data_x)\n",
    "norm = StandardScaler()\n",
    "norm_x=norm.fit_transform(data_x)\n"
   ]
  },
  {
   "cell_type": "code",
   "execution_count": 55,
   "metadata": {},
   "outputs": [],
   "source": [
    "# partition with test size 0.3\n",
    "#print(norm_x)\n",
    "train_x, test_x, train_y, test_y = train_test_split( norm_x, data_y, test_size=0.3, random_state=42)"
   ]
  },
  {
   "cell_type": "code",
   "execution_count": 56,
   "metadata": {},
   "outputs": [],
   "source": [
    "# fit logistic regression and \n",
    "# use predict_log_proba()\n",
    "\n",
    "model = LogisticRegression(C=1e5, solver='lbfgs')\n",
    "model.fit(train_x, train_y)\n",
    "\n",
    "#pred_y = model.predict(test_x)\n",
    "pred_y = model.predict_log_proba(test_x)\n",
    "\n"
   ]
  },
  {
   "cell_type": "code",
   "execution_count": 57,
   "metadata": {},
   "outputs": [
    {
     "data": {
      "image/png": "[encoded data removed]",
      "text/plain": [
       "<Figure size 432x288 with 1 Axes>"
      ]
     },
     "metadata": {
      "needs_background": "light"
     },
     "output_type": "display_data"
    }
   ],
   "source": [
    "# draw ROC curve\n",
    "\n",
    "fpr, tpr, _ = roc_curve(test_y, pred_y[:,1])\n",
    "plt.plot(fpr, tpr)\n",
    "plt.grid()\n",
    "plt.xlabel('False positive rate')\n",
    "plt.ylabel('True positive rate')\n",
    "plt.title('ROC curve')\n",
    "plt.show()"
   ]
  },
  {
   "cell_type": "code",
   "execution_count": 58,
   "metadata": {},
   "outputs": [
    {
     "name": "stdout",
     "output_type": "stream",
     "text": [
      "0.9064327485380117\n",
      "0.9239766081871345\n",
      "0.9064327485380117\n",
      "0.9064327485380117\n",
      "0.9064327485380117\n"
     ]
    }
   ],
   "source": [
    "# What happens to the \"score\" when C = 1, 1/10, 150, 100, 1000?\n",
    "\n",
    "c1 = LogisticRegression(C=1, solver='lbfgs').fit(train_x, train_y).score(test_x,test_y)\n",
    "c110 = LogisticRegression(C=0.1, solver='lbfgs').fit(train_x, train_y).score(test_x,test_y)\n",
    "c150 = LogisticRegression(C=150, solver='lbfgs').fit(train_x, train_y).score(test_x,test_y)\n",
    "c100 = LogisticRegression(C=100, solver='lbfgs').fit(train_x, train_y).score(test_x,test_y)\n",
    "c1000 = LogisticRegression(C=1000, solver='lbfgs').fit(train_x, train_y).score(test_x,test_y)\n",
    "\n",
    "print()"
   ]
  },
  {
   "cell_type": "code",
   "execution_count": null,
   "metadata": {},
   "outputs": [],
   "source": []
  }
 ],
 "metadata": {
  "kernelspec": {
   "display_name": "Python 3",
   "language": "python",
   "name": "python3"
  },
  "language_info": {
   "codemirror_mode": {
    "name": "ipython",
    "version": 3
   },
   "file_extension": ".py",
   "mimetype": "text/x-python",
   "name": "python",
   "nbconvert_exporter": "python",
   "pygments_lexer": "ipython3",
   "version": "3.6.9"
  }
 },
 "nbformat": 4,
 "nbformat_minor": 4
}
